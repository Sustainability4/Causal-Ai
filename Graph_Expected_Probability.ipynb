{
 "cells": [
  {
   "cell_type": "markdown",
   "id": "0b2c85b0",
   "metadata": {},
   "source": [
    "#### Question 1.5.1 : Causal inference in Statistics : A primer."
   ]
  },
  {
   "cell_type": "code",
   "execution_count": 1,
   "id": "808488de",
   "metadata": {},
   "outputs": [],
   "source": [
    "import numpy as np\n",
    "import pandas as pd \n",
    "\n",
    "# Generate random data for U_x, U_y, and U_z\n",
    "# Assuming these are normally distributed random variables with mean 0 and standard deviation 1\n",
    "# These are exogeenous variables in the context of a causal graph\n",
    "U_x = np.random.normal(loc=0, scale=1, size=1000)\n",
    "U_y = np.random.normal(loc=0, scale=1, size=1000)\n",
    "U_z = np.random.normal(loc=0, scale=1, size=1000)\n",
    "\n",
    "X = U_x\n",
    "Y = X/3 + U_y\n",
    "Z = Y/16 + U_z"
   ]
  },
  {
   "cell_type": "code",
   "execution_count": 2,
   "id": "043c3632",
   "metadata": {},
   "outputs": [
    {
     "name": "stdout",
     "output_type": "stream",
     "text": [
      "Collecting networkx\n",
      "  Downloading networkx-3.5-py3-none-any.whl.metadata (6.3 kB)\n",
      "Collecting matplotlib\n",
      "  Downloading matplotlib-3.10.3-cp312-cp312-win_amd64.whl.metadata (11 kB)\n",
      "Collecting contourpy>=1.0.1 (from matplotlib)\n",
      "  Downloading contourpy-1.3.2-cp312-cp312-win_amd64.whl.metadata (5.5 kB)\n",
      "Collecting cycler>=0.10 (from matplotlib)\n",
      "  Using cached cycler-0.12.1-py3-none-any.whl.metadata (3.8 kB)\n",
      "Collecting fonttools>=4.22.0 (from matplotlib)\n",
      "  Downloading fonttools-4.59.0-cp312-cp312-win_amd64.whl.metadata (110 kB)\n",
      "Collecting kiwisolver>=1.3.1 (from matplotlib)\n",
      "  Downloading kiwisolver-1.4.8-cp312-cp312-win_amd64.whl.metadata (6.3 kB)\n",
      "Requirement already satisfied: numpy>=1.23 in c:\\users\\rohan\\onedrive\\desktop\\commodity trader\\mb\\indiancashequitystrategy_marketbreadth\\.signal_processing_venv\\lib\\site-packages (from matplotlib) (2.3.1)\n",
      "Requirement already satisfied: packaging>=20.0 in c:\\users\\rohan\\onedrive\\desktop\\commodity trader\\mb\\indiancashequitystrategy_marketbreadth\\.signal_processing_venv\\lib\\site-packages (from matplotlib) (25.0)\n",
      "Requirement already satisfied: pillow>=8 in c:\\users\\rohan\\onedrive\\desktop\\commodity trader\\mb\\indiancashequitystrategy_marketbreadth\\.signal_processing_venv\\lib\\site-packages (from matplotlib) (11.3.0)\n",
      "Collecting pyparsing>=2.3.1 (from matplotlib)\n",
      "  Downloading pyparsing-3.2.3-py3-none-any.whl.metadata (5.0 kB)\n",
      "Requirement already satisfied: python-dateutil>=2.7 in c:\\users\\rohan\\onedrive\\desktop\\commodity trader\\mb\\indiancashequitystrategy_marketbreadth\\.signal_processing_venv\\lib\\site-packages (from matplotlib) (2.9.0.post0)\n",
      "Requirement already satisfied: six>=1.5 in c:\\users\\rohan\\onedrive\\desktop\\commodity trader\\mb\\indiancashequitystrategy_marketbreadth\\.signal_processing_venv\\lib\\site-packages (from python-dateutil>=2.7->matplotlib) (1.17.0)\n",
      "Downloading networkx-3.5-py3-none-any.whl (2.0 MB)\n",
      "   ---------------------------------------- 0.0/2.0 MB ? eta -:--:--\n",
      "   ------------------------------ --------- 1.6/2.0 MB 27.9 MB/s eta 0:00:01\n",
      "   ---------------------------------------- 2.0/2.0 MB 7.1 MB/s eta 0:00:00\n",
      "Downloading matplotlib-3.10.3-cp312-cp312-win_amd64.whl (8.1 MB)\n",
      "   ---------------------------------------- 0.0/8.1 MB ? eta -:--:--\n",
      "   -------------------------------- ------- 6.6/8.1 MB 33.6 MB/s eta 0:00:01\n",
      "   ---------------------------------------- 8.1/8.1 MB 27.8 MB/s eta 0:00:00\n",
      "Downloading contourpy-1.3.2-cp312-cp312-win_amd64.whl (223 kB)\n",
      "Using cached cycler-0.12.1-py3-none-any.whl (8.3 kB)\n",
      "Downloading fonttools-4.59.0-cp312-cp312-win_amd64.whl (2.2 MB)\n",
      "   ---------------------------------------- 0.0/2.2 MB ? eta -:--:--\n",
      "   ---------------------------------------- 2.2/2.2 MB 15.9 MB/s eta 0:00:00\n",
      "Downloading kiwisolver-1.4.8-cp312-cp312-win_amd64.whl (71 kB)\n",
      "Downloading pyparsing-3.2.3-py3-none-any.whl (111 kB)\n",
      "Installing collected packages: pyparsing, networkx, kiwisolver, fonttools, cycler, contourpy, matplotlib\n",
      "Successfully installed contourpy-1.3.2 cycler-0.12.1 fonttools-4.59.0 kiwisolver-1.4.8 matplotlib-3.10.3 networkx-3.5 pyparsing-3.2.3\n"
     ]
    },
    {
     "name": "stderr",
     "output_type": "stream",
     "text": [
      "\n",
      "[notice] A new release of pip is available: 25.0.1 -> 25.1.1\n",
      "[notice] To update, run: python.exe -m pip install --upgrade pip\n"
     ]
    }
   ],
   "source": [
    "!pip install networkx matplotlib"
   ]
  },
  {
   "cell_type": "code",
   "execution_count": 4,
   "id": "ade2bf44",
   "metadata": {},
   "outputs": [
    {
     "data": {
      "image/png": "[encoded data removed]",
      "text/plain": [
       "<Figure size 640x480 with 1 Axes>"
      ]
     },
     "metadata": {},
     "output_type": "display_data"
    }
   ],
   "source": [
    "# Creating a directed graph to represent the causal relationships\n",
    "# between U_x, U_y, U_z, X, Y, and Z\n",
    "import networkx as nx\n",
    "import matplotlib.pyplot as plt\n",
    "\n",
    "# Create a directed graph\n",
    "G = nx.DiGraph()\n",
    "\n",
    "# Add nodes\n",
    "G.add_nodes_from(['U_x', 'U_y', 'U_z', 'X', 'Y', 'Z'])\n",
    "\n",
    "# Add directed edges based on relationships\n",
    "G.add_edge('U_x', 'X')\n",
    "G.add_edge('X', 'Y')\n",
    "G.add_edge('U_y', 'Y')\n",
    "G.add_edge('Y', 'Z')\n",
    "G.add_edge('U_z', 'Z')\n",
    "\n",
    "# Draw the graph\n",
    "pos = {\n",
    "    'U_x': (0, 2),\n",
    "    'X': (1, 2),\n",
    "    'U_y': (0, 1),\n",
    "    'Y': (2, 1.5),\n",
    "    'U_z': (0, 0),\n",
    "    'Z': (3, 1)\n",
    "}\n",
    "nx.draw(G, pos, with_labels=True, arrows=True, node_color='lightblue', node_size=1500, font_size=12)\n",
    "plt.title(\"Directed Graph of Variable Relationships\")\n",
    "plt.show()"
   ]
  },
  {
   "cell_type": "code",
   "execution_count": 10,
   "id": "bd56277c",
   "metadata": {},
   "outputs": [
    {
     "name": "stdout",
     "output_type": "stream",
     "text": [
      "Expected value of Y: 3\n",
      "Expected value of U_z: -0.007971352147049802\n",
      "Expected value of Z given Y = 3: 0.1795286478529502\n"
     ]
    }
   ],
   "source": [
    "# Lets say we need to find the expected value of Z given Y = 3\n",
    "def expected_value_Z_given_Y(y_value):\n",
    "    # Calculate the expected value of Z given Y = y_value\n",
    "    \n",
    "    E_Y = y_value\n",
    "    E_U_z = np.mean(U_z)\n",
    "    print(f\"Expected value of Y: {E_Y}\")\n",
    "    print(f\"Expected value of U_z: {E_U_z}\")\n",
    "    \n",
    "    return E_Y/16 + E_U_z\n",
    "\n",
    "# Example usage\n",
    "y_value = 3 \n",
    "expected_Z = expected_value_Z_given_Y(y_value)\n",
    "print(f\"Expected value of Z given Y = {y_value}: {expected_Z}\")"
   ]
  },
  {
   "cell_type": "code",
   "execution_count": 11,
   "id": "a6763e5a",
   "metadata": {},
   "outputs": [
    {
     "name": "stdout",
     "output_type": "stream",
     "text": [
      "Expected value of Z given X = 3: 0.05753548582795229\n"
     ]
    }
   ],
   "source": [
    "# Lets say we need to find the expected value of Z given X = 3\n",
    "def expected_value_Z_given_X(x_value):\n",
    "    # Calculate the expected value of Z given Y = y_value\n",
    "    \n",
    "    E_X = x_value\n",
    "    E_U_z = np.mean(U_z)\n",
    "    E_U_y = np.mean(U_y)\n",
    "    \n",
    "    return E_X/48 + E_U_y/16 + E_U_z\n",
    "\n",
    "# Example usage\n",
    "x_value = 3 \n",
    "expected_Z = expected_value_Z_given_X(x_value)\n",
    "print(f\"Expected value of Z given X = {x_value}: {expected_Z}\")"
   ]
  },
  {
   "cell_type": "code",
   "execution_count": 17,
   "id": "634568d8",
   "metadata": {},
   "outputs": [
    {
     "name": "stdout",
     "output_type": "stream",
     "text": [
      "Collecting scikit-learn\n",
      "  Downloading scikit_learn-1.7.1-cp312-cp312-win_amd64.whl.metadata (11 kB)\n",
      "Requirement already satisfied: numpy>=1.22.0 in c:\\users\\rohan\\onedrive\\desktop\\commodity trader\\mb\\indiancashequitystrategy_marketbreadth\\.signal_processing_venv\\lib\\site-packages (from scikit-learn) (2.3.1)\n",
      "Collecting scipy>=1.8.0 (from scikit-learn)\n",
      "  Downloading scipy-1.16.0-cp312-cp312-win_amd64.whl.metadata (60 kB)\n",
      "Collecting joblib>=1.2.0 (from scikit-learn)\n",
      "  Downloading joblib-1.5.1-py3-none-any.whl.metadata (5.6 kB)\n",
      "Collecting threadpoolctl>=3.1.0 (from scikit-learn)\n",
      "  Downloading threadpoolctl-3.6.0-py3-none-any.whl.metadata (13 kB)\n",
      "Downloading scikit_learn-1.7.1-cp312-cp312-win_amd64.whl (8.7 MB)\n",
      "   ---------------------------------------- 0.0/8.7 MB ? eta -:--:--\n",
      "   -------------------- ------------------- 4.5/8.7 MB 22.3 MB/s eta 0:00:01\n",
      "   --------------------------------- ------ 7.3/8.7 MB 18.9 MB/s eta 0:00:01\n",
      "   ---------------------------------------- 8.7/8.7 MB 16.9 MB/s eta 0:00:00\n",
      "Downloading joblib-1.5.1-py3-none-any.whl (307 kB)\n",
      "Downloading scipy-1.16.0-cp312-cp312-win_amd64.whl (38.4 MB)\n",
      "   ---------------------------------------- 0.0/38.4 MB ? eta -:--:--\n",
      "   -- ------------------------------------- 2.6/38.4 MB 13.7 MB/s eta 0:00:03\n",
      "   --- ------------------------------------ 3.4/38.4 MB 8.0 MB/s eta 0:00:05\n",
      "   ---- ----------------------------------- 3.9/38.4 MB 6.7 MB/s eta 0:00:06\n",
      "   ---- ----------------------------------- 4.5/38.4 MB 5.6 MB/s eta 0:00:07\n",
      "   ----- ---------------------------------- 5.5/38.4 MB 5.2 MB/s eta 0:00:07\n",
      "   ------ --------------------------------- 6.6/38.4 MB 5.2 MB/s eta 0:00:07\n",
      "   ------- -------------------------------- 7.6/38.4 MB 5.3 MB/s eta 0:00:06\n",
      "   --------- ------------------------------ 8.9/38.4 MB 5.3 MB/s eta 0:00:06\n",
      "   ---------- ----------------------------- 10.2/38.4 MB 5.4 MB/s eta 0:00:06\n",
      "   ------------ --------------------------- 11.5/38.4 MB 5.6 MB/s eta 0:00:05\n",
      "   ------------- -------------------------- 13.1/38.4 MB 5.7 MB/s eta 0:00:05\n",
      "   --------------- ------------------------ 14.9/38.4 MB 5.9 MB/s eta 0:00:04\n",
      "   ----------------- ---------------------- 16.8/38.4 MB 6.1 MB/s eta 0:00:04\n",
      "   ------------------- -------------------- 18.6/38.4 MB 6.3 MB/s eta 0:00:04\n",
      "   --------------------- ------------------ 20.4/38.4 MB 6.5 MB/s eta 0:00:03\n",
      "   ----------------------- ---------------- 22.5/38.4 MB 6.7 MB/s eta 0:00:03\n",
      "   ------------------------- -------------- 24.6/38.4 MB 6.9 MB/s eta 0:00:02\n",
      "   ---------------------------- ----------- 27.0/38.4 MB 7.2 MB/s eta 0:00:02\n",
      "   ------------------------------ --------- 29.6/38.4 MB 7.4 MB/s eta 0:00:02\n",
      "   --------------------------------- ------ 32.2/38.4 MB 7.7 MB/s eta 0:00:01\n",
      "   ------------------------------------ --- 34.6/38.4 MB 7.9 MB/s eta 0:00:01\n",
      "   -------------------------------------- - 37.2/38.4 MB 8.1 MB/s eta 0:00:01\n",
      "   ---------------------------------------- 38.4/38.4 MB 8.0 MB/s eta 0:00:00\n",
      "Downloading threadpoolctl-3.6.0-py3-none-any.whl (18 kB)\n",
      "Installing collected packages: threadpoolctl, scipy, joblib, scikit-learn\n",
      "Successfully installed joblib-1.5.1 scikit-learn-1.7.1 scipy-1.16.0 threadpoolctl-3.6.0\n"
     ]
    },
    {
     "name": "stderr",
     "output_type": "stream",
     "text": [
      "\n",
      "[notice] A new release of pip is available: 25.0.1 -> 25.1.1\n",
      "[notice] To update, run: python.exe -m pip install --upgrade pip\n"
     ]
    }
   ],
   "source": [
    "!pip install scikit-learn"
   ]
  },
  {
   "cell_type": "code",
   "execution_count": 18,
   "id": "90d984c5",
   "metadata": {},
   "outputs": [
    {
     "name": "stdout",
     "output_type": "stream",
     "text": [
      "Intercept: 0.048737232693691304\n",
      "Coefficient for X: 0.3358740852262966\n",
      "Coefficient for Z: 0.1056355347350018\n"
     ]
    }
   ],
   "source": [
    "# I need to find a regression model that predicts Y based on X and Z values \n",
    "# define a linear regression model for Y based on X and Z\n",
    "# Prepare feature matrix with X and Z\n",
    "X_features = np.column_stack((X, Z))\n",
    "\n",
    "# Add intercept column\n",
    "X_design = np.column_stack((np.ones(X_features.shape[0]), X_features))\n",
    "\n",
    "# Calculate coefficients using normal equation\n",
    "beta = np.linalg.inv(X_design.T @ X_design) @ X_design.T @ Y\n",
    "\n",
    "print(\"Intercept:\", beta[0])\n",
    "print(\"Coefficient for X:\", beta[1])\n",
    "print(\"Coefficient for Z:\", beta[2])\n"
   ]
  },
  {
   "cell_type": "code",
   "execution_count": 19,
   "id": "5cc30f90",
   "metadata": {},
   "outputs": [
    {
     "data": {
      "text/plain": [
       "np.float64(0.7015179221249933)"
      ]
     },
     "execution_count": 19,
     "metadata": {},
     "output_type": "execute_result"
    }
   ],
   "source": [
    "beta[1]*1 + beta[2]*3 + beta[0]"
   ]
  },
  {
   "cell_type": "code",
   "execution_count": 21,
   "id": "baf1f818",
   "metadata": {},
   "outputs": [
    {
     "name": "stdout",
     "output_type": "stream",
     "text": [
      "Coefficient for X (no intercept): 0.33482938085989056\n",
      "Coefficient for Z (no intercept): 0.10540868054842266\n"
     ]
    }
   ],
   "source": [
    "# Prepare feature matrix with X and Z (no intercept column)\n",
    "X_features = np.column_stack((X, Z))\n",
    "\n",
    "# Calculate coefficients without intercept using normal equation\n",
    "beta_no_intercept = np.linalg.inv(X_features.T @ X_features) @ X_features.T @ Y\n",
    "\n",
    "print(\"Coefficient for X (no intercept):\", beta_no_intercept[0])\n",
    "print(\"Coefficient for Z (no intercept):\", beta_no_intercept[1])"
   ]
  },
  {
   "cell_type": "code",
   "execution_count": 22,
   "id": "71cda44b",
   "metadata": {},
   "outputs": [
    {
     "data": {
      "text/plain": [
       "np.float64(0.6510554225051586)"
      ]
     },
     "execution_count": 22,
     "metadata": {},
     "output_type": "execute_result"
    }
   ],
   "source": [
    "beta_no_intercept[0] * 1 + beta_no_intercept[1] * 3"
   ]
  },
  {
   "cell_type": "code",
   "execution_count": 20,
   "id": "6e457aa1",
   "metadata": {},
   "outputs": [
    {
     "data": {
      "text/plain": [
       "0.5188067444876784"
      ]
     },
     "execution_count": 20,
     "metadata": {},
     "output_type": "execute_result"
    }
   ],
   "source": [
    "400/771"
   ]
  },
  {
   "cell_type": "markdown",
   "id": "9c39108b",
   "metadata": {},
   "source": [
    "### Question ..."
   ]
  },
  {
   "cell_type": "markdown",
   "id": "db39f840",
   "metadata": {},
   "source": []
  }
 ],
 "metadata": {
  "kernelspec": {
   "display_name": "Python:Market_Breadth",
   "language": "python",
   "name": "signal_processing"
  },
  "language_info": {
   "codemirror_mode": {
    "name": "ipython",
    "version": 3
   },
   "file_extension": ".py",
   "mimetype": "text/x-python",
   "name": "python",
   "nbconvert_exporter": "python",
   "pygments_lexer": "ipython3",
   "version": "3.12.10"
  }
 },
 "nbformat": 4,
 "nbformat_minor": 5
}
